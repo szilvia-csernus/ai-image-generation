{
 "cells": [
  {
   "cell_type": "code",
   "execution_count": 1,
   "id": "9293da8a-45ab-44fc-8bbf-8cf0bb2d467a",
   "metadata": {},
   "outputs": [],
   "source": [
    "import openai\n",
    "from dotenv import dotenv_values\n",
    "import requests\n",
    "import os"
   ]
  },
  {
   "cell_type": "code",
   "execution_count": 2,
   "id": "9bdd4194-1d4d-4e72-9cfa-fff584e10729",
   "metadata": {},
   "outputs": [],
   "source": [
    "config = dotenv_values(\".env\")\n",
    "openai.api_key = config[\"OPENAI_API_KEY\"]"
   ]
  },
  {
   "cell_type": "code",
   "execution_count": 6,
   "id": "82a4b657-71f0-47a6-aac2-140e2f4a8db1",
   "metadata": {},
   "outputs": [],
   "source": [
    "# Generate an image variation for a given image with OpenAI's DALL-E 2. Return value is an image URL.\n",
    "res = openai.images.create_variation(\n",
    "    image = open('./images/skijoer6.png', \"rb\"),\n",
    "    n=3\n",
    ")"
   ]
  },
  {
   "cell_type": "code",
   "execution_count": 10,
   "id": "21d8a7d5-15e6-4a5e-bbad-4dd92a5c107f",
   "metadata": {},
   "outputs": [],
   "source": [
    "# Save the images into the current directory's 'image-variations' folder.\n",
    "image_directory_name = \"image-variations\"\n",
    "image_directory = os.path.join(os.curdir, image_directory_name)\n",
    "if not os.path.isdir(image_directory):\n",
    "    os.mkdir(image_directory)\n",
    "\n",
    "for i in range(3):\n",
    "    image_filepath = os.path.join(image_directory, f\"skijoer-variation-{i}.png\")\n",
    "    image_content = requests.get(res.data[i].url).content\n",
    "    with open(image_filepath, \"wb\") as image_file:\n",
    "        image_file.write(image_content)"
   ]
  }
 ],
 "metadata": {
  "kernelspec": {
   "display_name": "Python 3 (ipykernel)",
   "language": "python",
   "name": "python3"
  },
  "language_info": {
   "codemirror_mode": {
    "name": "ipython",
    "version": 3
   },
   "file_extension": ".py",
   "mimetype": "text/x-python",
   "name": "python",
   "nbconvert_exporter": "python",
   "pygments_lexer": "ipython3",
   "version": "3.12.2"
  }
 },
 "nbformat": 4,
 "nbformat_minor": 5
}
